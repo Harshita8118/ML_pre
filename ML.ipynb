{
  "metadata": {
    "kernelspec": {
      "display_name": "Pyolite",
      "language": "python",
      "name": "python"
    },
    "language_info": {
      "codemirror_mode": {
        "name": "python",
        "version": 3
      },
      "file_extension": ".py",
      "mimetype": "text/x-python",
      "name": "python",
      "nbconvert_exporter": "python",
      "pygments_lexer": "ipython3",
      "version": "3.8"
    }
  },
  "nbformat_minor": 5,
  "nbformat": 4,
  "cells": [
    {
      "id": "ce931bd4-cf12-4442-8d06-96a1ba59c1b8",
      "cell_type": "code",
      "source": "#Q1\n\n#To multiply a matrix of nxk and kxm, we will be required to perform nmk multiplications since there are nxm elements in the result and each result will need k multiplication.\n\n#The result has nxm elements and each element requires k-1 addition operation so total addition operation will be nm(k-1)",
      "metadata": {
        "trusted": true
      },
      "outputs": [],
      "execution_count": null
    },
    {
      "id": "cc9282e0-cafc-47de-b2b4-ac6c8fdf72c3",
      "cell_type": "code",
      "source": "#Q2\n\ndef multiply(m1,m2):\n    n=len(m1)\n    k=len(m1[0])\n    m=len(m2[0])\n    \n    result = [[0 for _ in range(m)] for _ in range(n)]\n    \n    for i in range(n):\n        for j in range(m):\n            for f in range(k):\n                result[i][j]+=m1[i][f]*m2[f][j]\n                \n    return result\n\n#numpy is faster then list of lists as list of lists method uses nested loops whereas numpy uses machine native datatypes instead of python object types.\n    ",
      "metadata": {
        "trusted": true
      },
      "outputs": [],
      "execution_count": null
    },
    {
      "id": "c3218ea8-5049-448c-8688-9154b6733881",
      "cell_type": "code",
      "source": "#Q3\n\n# highest element requires 1 pass of array so O(n), second highest requires 2 pass of array so O(2n)....so on median will approximately be n/2 so O(n/2*n) which will be O(n^2)\n\n# for a better time we can sort the array first which can be done in O(nlogn) using merge sort then O(1) to select the emdian index, O(nlogn) is better than O(n^2).\n\n",
      "metadata": {
        "trusted": true
      },
      "outputs": [],
      "execution_count": null
    },
    {
      "id": "c5a15aa1-cdf0-46ce-981c-73aa30fe3139",
      "cell_type": "code",
      "source": "# Q7\n\nstudents = {\n    2022: {\n        \"Branch 1\": {\n            1: {\"Marks\": {\"Maths\": 100, \"English\": 70, \"Science\": 85}},\n            2: {\"Marks\": {\"Maths\": 80, \"English\": 90, \"Science\": 88}},\n        },\n        \"Branch 2\": {\n            3: {\"Marks\": {\"Maths\": 95, \"English\": 60, \"Science\": 75}},\n            4: {\"Marks\": {\"Maths\": 85, \"English\": 78, \"Science\": 82}},\n        }\n    },\n    2023: {\n        \"Branch 1\": {\n            5: {\"Marks\": {\"Maths\": 89, \"English\": 85, \"Science\": 91}},\n            6: {\"Marks\": {\"Maths\": 92, \"English\": 88, \"Science\": 79}},\n        },\n        \"Branch 2\": {\n            7: {\"Marks\": {\"Maths\": 74, \"English\": 92, \"Science\": 88}},\n            8: {\"Marks\": {\"Maths\": 82, \"English\": 79, \"Science\": 90}},\n        }\n    },\n    2024: {\n        \"Branch 1\": {\n            9: {\"Marks\": {\"Maths\": 90, \"English\": 84, \"Science\": 76}},\n            10: {\"Marks\": {\"Maths\": 95, \"English\": 89, \"Science\": 85}},\n        },\n        \"Branch 2\": {\n            11: {\"Marks\": {\"Maths\": 88, \"English\": 79, \"Science\": 83}},\n            12: {\"Marks\": {\"Maths\": 91, \"English\": 86, \"Science\": 88}},\n        }\n    },\n    2025: {\n        \"Branch 1\": {\n            13: {\"Marks\": {\"Maths\": 87, \"English\": 92, \"Science\": 81}},\n            14: {\"Marks\": {\"Maths\": 90, \"English\": 88, \"Science\": 77}},\n        },\n        \"Branch 2\": {\n            15: {\"Marks\": {\"Maths\": 93, \"English\": 84, \"Science\": 89}},\n            16: {\"Marks\": {\"Maths\": 85, \"English\": 91, \"Science\": 87}},\n        }\n    }\n}\n\n",
      "metadata": {
        "trusted": true
      },
      "outputs": [],
      "execution_count": null
    },
    {
      "id": "2c39d27b-bd78-495f-896a-2deaf725ebc6",
      "cell_type": "code",
      "source": "# Q13\n\nimport numpy as np\n\ndef my_argmin(arr):\n \n    min = 0\n    \n    for i in range(1, len(arr)):\n        if arr[i] < arr[min]:\n            min = i\n    \n    return min\n\narr = np.array([3, 1, 4, 1, 5, 9])\nindex = my_argmin(arr)\n\nnp_argmin = np.argmin(arr)\n\nif index == np_argmin:\n    print(\"Correct\")\nelse:\n    print(\"Wrong\")\n",
      "metadata": {
        "trusted": true
      },
      "outputs": [],
      "execution_count": null
    },
    {
      "id": "5eb7295f-1f64-4057-b86c-ace1a6314ace",
      "cell_type": "code",
      "source": "# Q10\n\nimport numpy as np\nimport pandas as pd\n\nmatrix = np.random.uniform(1, 2, size=(20, 5))\n\ndf = pd.DataFrame(matrix, columns=[\"a\", \"b\", \"c\", \"d\", \"e\"])\n\nstd = df.std()\nmax_std = std.idxmax()\nprint(max_std)\n\nmeans = df.mean(axis=1)\nmin_mean = means.idxmin()\nprint(min_mean)\n",
      "metadata": {
        "trusted": true
      },
      "outputs": [],
      "execution_count": null
    },
    {
      "id": "c70a7e12-0c49-4b1a-be8c-bfb0a53a9c27",
      "cell_type": "code",
      "source": "# Q11\n\ndf[\"f\"] = df[[\"a\", \"b\", \"c\", \"d\", \"e\"]].sum(axis=1)\n\ndf[\"g\"] = np.where(df[\"f\"] < 8, \"LT8\", \"GT8\")\n\nprint(df)\n\ncount = (df[\"g\"] == \"LT8\").sum()\n\nprint(count)",
      "metadata": {
        "trusted": true
      },
      "outputs": [],
      "execution_count": null
    },
    {
      "id": "31af1a32-ffc6-421a-ab8c-eb84de956ee3",
      "cell_type": "code",
      "source": "# Q12\n\nimport numpy as np\n\nmatrix = np.array([[1, 2, 3],\n                   [4, 5, 6],\n                   [7, 8, 9]])\n\nvector = np.array([10, 20, 30])\n\nresult = matrix + vector\n\nprint(\"Matrix:\")\nprint(matrix)\n\nprint(\"\\nVector:\")\nprint(vector)\n\nprint(\"\\nBroadcasting (Matrix + Vector):\")\nprint(result)\n",
      "metadata": {
        "trusted": true
      },
      "outputs": [],
      "execution_count": null
    }
  ]
}